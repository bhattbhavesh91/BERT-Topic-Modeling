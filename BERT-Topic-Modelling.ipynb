{
  "nbformat": 4,
  "nbformat_minor": 0,
  "metadata": {
    "colab": {
      "name": "BERT_Topic_Modelling.ipynb",
      "provenance": [],
      "collapsed_sections": []
    },
    "kernelspec": {
      "name": "python3",
      "display_name": "Python 3"
    },
    "accelerator": "GPU"
  },
  "cells": [
    {
      "cell_type": "markdown",
      "metadata": {
        "id": "AXHLDxJdRzBi"
      },
      "source": [
        "# **BERTopic - Tutorial**"
      ]
    },
    {
      "cell_type": "code",
      "metadata": {
        "id": "SNa-KtKDRnus",
        "colab": {
          "base_uri": "https://localhost:8080/"
        },
        "outputId": "4273ada4-aadb-4c0a-ddb3-4059f412e2bd"
      },
      "source": [
        "!pip install bertopic[visualization] --quiet"
      ],
      "execution_count": 1,
      "outputs": [
        {
          "output_type": "stream",
          "text": [
            "\u001b[K     |████████████████████████████████| 4.7MB 11.3MB/s \n",
            "\u001b[?25h  Installing build dependencies ... \u001b[?25l\u001b[?25hdone\n",
            "  Getting requirements to build wheel ... \u001b[?25l\u001b[?25hdone\n",
            "    Preparing wheel metadata ... \u001b[?25l\u001b[?25hdone\n",
            "\u001b[K     |████████████████████████████████| 307kB 56.5MB/s \n",
            "\u001b[K     |████████████████████████████████| 71kB 12.1MB/s \n",
            "\u001b[K     |████████████████████████████████| 13.2MB 48.5MB/s \n",
            "\u001b[K     |████████████████████████████████| 1.5MB 55.8MB/s \n",
            "\u001b[K     |████████████████████████████████| 1.1MB 52.4MB/s \n",
            "\u001b[K     |████████████████████████████████| 2.9MB 51.2MB/s \n",
            "\u001b[K     |████████████████████████████████| 890kB 55.6MB/s \n",
            "\u001b[?25h  Building wheel for hdbscan (PEP 517) ... \u001b[?25l\u001b[?25hdone\n",
            "  Building wheel for sentence-transformers (setup.py) ... \u001b[?25l\u001b[?25hdone\n",
            "  Building wheel for sacremoses (setup.py) ... \u001b[?25l\u001b[?25hdone\n"
          ],
          "name": "stdout"
        }
      ]
    },
    {
      "cell_type": "markdown",
      "metadata": {
        "id": "Bm-iSjr9z6dF"
      },
      "source": [
        "# **Imports**"
      ]
    },
    {
      "cell_type": "code",
      "metadata": {
        "id": "Wd0uHueSz795"
      },
      "source": [
        "import numpy as np\r\n",
        "import pandas as pd\r\n",
        "from copy import deepcopy\r\n",
        "from bertopic import BERTopic"
      ],
      "execution_count": 1,
      "outputs": []
    },
    {
      "cell_type": "markdown",
      "metadata": {
        "id": "Y3VGFZ1USMTu"
      },
      "source": [
        "# **Load data**"
      ]
    },
    {
      "cell_type": "code",
      "metadata": {
        "id": "K1KDDUurzpgz"
      },
      "source": [
        "df = pd.read_csv(\"data.csv\")"
      ],
      "execution_count": 2,
      "outputs": []
    },
    {
      "cell_type": "code",
      "metadata": {
        "colab": {
          "base_uri": "https://localhost:8080/",
          "height": 141
        },
        "id": "ITGyQkMQzrma",
        "outputId": "108d2ac2-507e-4797-cfe2-f30b052fba8a"
      },
      "source": [
        "df.head(3)"
      ],
      "execution_count": 3,
      "outputs": [
        {
          "output_type": "execute_result",
          "data": {
            "text/html": [
              "<div>\n",
              "<style scoped>\n",
              "    .dataframe tbody tr th:only-of-type {\n",
              "        vertical-align: middle;\n",
              "    }\n",
              "\n",
              "    .dataframe tbody tr th {\n",
              "        vertical-align: top;\n",
              "    }\n",
              "\n",
              "    .dataframe thead th {\n",
              "        text-align: right;\n",
              "    }\n",
              "</style>\n",
              "<table border=\"1\" class=\"dataframe\">\n",
              "  <thead>\n",
              "    <tr style=\"text-align: right;\">\n",
              "      <th></th>\n",
              "      <th>Reviews</th>\n",
              "    </tr>\n",
              "  </thead>\n",
              "  <tbody>\n",
              "    <tr>\n",
              "      <th>0</th>\n",
              "      <td>Saw the car on the road today and i found it t...</td>\n",
              "    </tr>\n",
              "    <tr>\n",
              "      <th>1</th>\n",
              "      <td>Built quality is very solid and a quick peppy ...</td>\n",
              "    </tr>\n",
              "    <tr>\n",
              "      <th>2</th>\n",
              "      <td>Even it's base model has all features and safe...</td>\n",
              "    </tr>\n",
              "  </tbody>\n",
              "</table>\n",
              "</div>"
            ],
            "text/plain": [
              "                                             Reviews\n",
              "0  Saw the car on the road today and i found it t...\n",
              "1  Built quality is very solid and a quick peppy ...\n",
              "2  Even it's base model has all features and safe..."
            ]
          },
          "metadata": {
            "tags": []
          },
          "execution_count": 3
        }
      ]
    },
    {
      "cell_type": "code",
      "metadata": {
        "id": "N_JdwlALzx46"
      },
      "source": [
        "docs = list(df.loc[:, \"Reviews\"].values)"
      ],
      "execution_count": 4,
      "outputs": []
    },
    {
      "cell_type": "code",
      "metadata": {
        "colab": {
          "base_uri": "https://localhost:8080/"
        },
        "id": "quJJRrNg0Z_g",
        "outputId": "9e4f7a74-6fce-4b06-c78d-28b9e2d75218"
      },
      "source": [
        "docs[:5]"
      ],
      "execution_count": 5,
      "outputs": [
        {
          "output_type": "execute_result",
          "data": {
            "text/plain": [
              "['Saw the car on the road today and i found it to have good enough road presence.',\n",
              " 'Built quality is very solid and a quick peppy engine.',\n",
              " \"Even it's base model has all features and safety like traction control abs ebd etc\",\n",
              " 'The diesel engine is providing extreme performance to the car like a beast.',\n",
              " \"It's very comfortable and doesn't make us tired at all.\"]"
            ]
          },
          "metadata": {
            "tags": []
          },
          "execution_count": 5
        }
      ]
    },
    {
      "cell_type": "markdown",
      "metadata": {
        "id": "SBcNmZJzSTY8"
      },
      "source": [
        "# **Creating Topics**"
      ]
    },
    {
      "cell_type": "code",
      "metadata": {
        "id": "TfhfzqkoSJ1I"
      },
      "source": [
        "model = BERTopic(language=\"english\")"
      ],
      "execution_count": 6,
      "outputs": []
    },
    {
      "cell_type": "code",
      "metadata": {
        "id": "NqdMzhTgqKfL",
        "colab": {
          "base_uri": "https://localhost:8080/"
        },
        "outputId": "b81ff88d-cb49-487b-9f6d-762332a77252"
      },
      "source": [
        "topics, probs = model.fit_transform(docs)"
      ],
      "execution_count": 7,
      "outputs": [
        {
          "output_type": "stream",
          "text": [
            "100%|██████████| 245M/245M [00:10<00:00, 23.1MB/s]\n"
          ],
          "name": "stderr"
        }
      ]
    },
    {
      "cell_type": "markdown",
      "metadata": {
        "id": "0ua80usww-rj"
      },
      "source": [
        "# We can then extract most frequent topics:"
      ]
    },
    {
      "cell_type": "code",
      "metadata": {
        "id": "nNptKBzHSbyS",
        "colab": {
          "base_uri": "https://localhost:8080/",
          "height": 539
        },
        "outputId": "c73f855d-d1be-4aa3-a30b-441a98ceaea9"
      },
      "source": [
        "model.get_topic_freq()"
      ],
      "execution_count": 8,
      "outputs": [
        {
          "output_type": "execute_result",
          "data": {
            "text/html": [
              "<div>\n",
              "<style scoped>\n",
              "    .dataframe tbody tr th:only-of-type {\n",
              "        vertical-align: middle;\n",
              "    }\n",
              "\n",
              "    .dataframe tbody tr th {\n",
              "        vertical-align: top;\n",
              "    }\n",
              "\n",
              "    .dataframe thead th {\n",
              "        text-align: right;\n",
              "    }\n",
              "</style>\n",
              "<table border=\"1\" class=\"dataframe\">\n",
              "  <thead>\n",
              "    <tr style=\"text-align: right;\">\n",
              "      <th></th>\n",
              "      <th>Topic</th>\n",
              "      <th>Count</th>\n",
              "    </tr>\n",
              "  </thead>\n",
              "  <tbody>\n",
              "    <tr>\n",
              "      <th>0</th>\n",
              "      <td>-1</td>\n",
              "      <td>154</td>\n",
              "    </tr>\n",
              "    <tr>\n",
              "      <th>1</th>\n",
              "      <td>3</td>\n",
              "      <td>152</td>\n",
              "    </tr>\n",
              "    <tr>\n",
              "      <th>2</th>\n",
              "      <td>14</td>\n",
              "      <td>139</td>\n",
              "    </tr>\n",
              "    <tr>\n",
              "      <th>3</th>\n",
              "      <td>10</td>\n",
              "      <td>60</td>\n",
              "    </tr>\n",
              "    <tr>\n",
              "      <th>4</th>\n",
              "      <td>8</td>\n",
              "      <td>39</td>\n",
              "    </tr>\n",
              "    <tr>\n",
              "      <th>5</th>\n",
              "      <td>2</td>\n",
              "      <td>33</td>\n",
              "    </tr>\n",
              "    <tr>\n",
              "      <th>6</th>\n",
              "      <td>0</td>\n",
              "      <td>30</td>\n",
              "    </tr>\n",
              "    <tr>\n",
              "      <th>7</th>\n",
              "      <td>7</td>\n",
              "      <td>27</td>\n",
              "    </tr>\n",
              "    <tr>\n",
              "      <th>8</th>\n",
              "      <td>12</td>\n",
              "      <td>27</td>\n",
              "    </tr>\n",
              "    <tr>\n",
              "      <th>9</th>\n",
              "      <td>1</td>\n",
              "      <td>21</td>\n",
              "    </tr>\n",
              "    <tr>\n",
              "      <th>10</th>\n",
              "      <td>6</td>\n",
              "      <td>20</td>\n",
              "    </tr>\n",
              "    <tr>\n",
              "      <th>11</th>\n",
              "      <td>9</td>\n",
              "      <td>18</td>\n",
              "    </tr>\n",
              "    <tr>\n",
              "      <th>12</th>\n",
              "      <td>4</td>\n",
              "      <td>16</td>\n",
              "    </tr>\n",
              "    <tr>\n",
              "      <th>13</th>\n",
              "      <td>5</td>\n",
              "      <td>16</td>\n",
              "    </tr>\n",
              "    <tr>\n",
              "      <th>14</th>\n",
              "      <td>13</td>\n",
              "      <td>15</td>\n",
              "    </tr>\n",
              "    <tr>\n",
              "      <th>15</th>\n",
              "      <td>11</td>\n",
              "      <td>14</td>\n",
              "    </tr>\n",
              "  </tbody>\n",
              "</table>\n",
              "</div>"
            ],
            "text/plain": [
              "    Topic  Count\n",
              "0      -1    154\n",
              "1       3    152\n",
              "2      14    139\n",
              "3      10     60\n",
              "4       8     39\n",
              "5       2     33\n",
              "6       0     30\n",
              "7       7     27\n",
              "8      12     27\n",
              "9       1     21\n",
              "10      6     20\n",
              "11      9     18\n",
              "12      4     16\n",
              "13      5     16\n",
              "14     13     15\n",
              "15     11     14"
            ]
          },
          "metadata": {
            "tags": []
          },
          "execution_count": 8
        }
      ]
    },
    {
      "cell_type": "markdown",
      "metadata": {
        "id": "6zMjoIyB0pd9"
      },
      "source": [
        "# Get Individual Topics"
      ]
    },
    {
      "cell_type": "code",
      "metadata": {
        "colab": {
          "base_uri": "https://localhost:8080/"
        },
        "id": "MPrGs6ys0mqt",
        "outputId": "dfba30b9-c622-4d7b-ffd0-b80938c79e3b"
      },
      "source": [
        "model.get_topic(0)"
      ],
      "execution_count": 9,
      "outputs": [
        {
          "output_type": "execute_result",
          "data": {
            "text/plain": [
              "[('sound', 0.20647518388927114),\n",
              " ('lighting', 0.05904045659014696),\n",
              " ('bose', 0.052776100755048946),\n",
              " ('lights', 0.03936030439343131),\n",
              " ('awesome', 0.036118521776356785),\n",
              " ('good', 0.035078170500737096),\n",
              " ('amazing', 0.033548658623619845),\n",
              " ('great', 0.03219834532747863),\n",
              " ('gimmicky', 0.024852892350148082),\n",
              " ('adaptive', 0.024852892350148082)]"
            ]
          },
          "metadata": {
            "tags": []
          },
          "execution_count": 9
        }
      ]
    },
    {
      "cell_type": "code",
      "metadata": {
        "id": "UCw_q8I7Sb03",
        "colab": {
          "base_uri": "https://localhost:8080/"
        },
        "outputId": "17b900aa-cc5e-496b-8917-d9ea78f64b8b"
      },
      "source": [
        "model.get_topic(2)"
      ],
      "execution_count": 10,
      "outputs": [
        {
          "output_type": "execute_result",
          "data": {
            "text/plain": [
              "[('cost', 0.12703704731543825),\n",
              " ('maintenance', 0.10057315391189506),\n",
              " ('service', 0.07040120773832655),\n",
              " ('costs', 0.06814275683211399),\n",
              " ('little', 0.057560357128908717),\n",
              " ('low', 0.04022926156475803),\n",
              " ('less', 0.032539541046116914),\n",
              " ('costlier', 0.03036859017445161),\n",
              " ('goodwill', 0.03036859017445161),\n",
              " ('servicing', 0.028305154509779017)]"
            ]
          },
          "metadata": {
            "tags": []
          },
          "execution_count": 10
        }
      ]
    },
    {
      "cell_type": "code",
      "metadata": {
        "colab": {
          "base_uri": "https://localhost:8080/"
        },
        "id": "D6u335JDzDSr",
        "outputId": "669a0748-7e07-4308-9c54-7af809026444"
      },
      "source": [
        "model.get_topic(14)"
      ],
      "execution_count": 11,
      "outputs": [
        {
          "output_type": "execute_result",
          "data": {
            "text/plain": [
              "[('car', 0.08357972680098304),\n",
              " ('good', 0.04357671366284399),\n",
              " ('safety', 0.04106929322713067),\n",
              " ('suv', 0.03988365816260247),\n",
              " ('drive', 0.03256642096270172),\n",
              " ('excellent', 0.0309635676225596),\n",
              " ('comfortable', 0.02290996022730286),\n",
              " ('amazing', 0.022227541436662838),\n",
              " ('airbags', 0.021626624133744835),\n",
              " ('nice', 0.019017652727957822)]"
            ]
          },
          "metadata": {
            "tags": []
          },
          "execution_count": 11
        }
      ]
    },
    {
      "cell_type": "markdown",
      "metadata": {
        "id": "M8c8LenB8Zyl"
      },
      "source": [
        "# **Visualize Topics**"
      ]
    },
    {
      "cell_type": "code",
      "metadata": {
        "id": "AQKBcla28bY0",
        "colab": {
          "base_uri": "https://localhost:8080/",
          "height": 667
        },
        "outputId": "2ba1ec8f-cda6-44f1-ab4e-4448ac876b90"
      },
      "source": [
        "model.visualize_topics()"
      ],
      "execution_count": 12,
      "outputs": [
        {
          "output_type": "display_data",
          "data": {
            "text/html": [
              "<html>\n",
              "<head><meta charset=\"utf-8\" /></head>\n",
              "<body>\n",
              "    <div>            <script src=\"https://cdnjs.cloudflare.com/ajax/libs/mathjax/2.7.5/MathJax.js?config=TeX-AMS-MML_SVG\"></script><script type=\"text/javascript\">if (window.MathJax) {MathJax.Hub.Config({SVG: {font: \"STIX-Web\"}});}</script>                <script type=\"text/javascript\">window.PlotlyConfig = {MathJaxConfig: 'local'};</script>\n",
              "        <script src=\"https://cdn.plot.ly/plotly-latest.min.js\"></script>                <div id=\"eacbe61c-7d04-4422-b1ce-c3a2058f31eb\" class=\"plotly-graph-div\" style=\"height:650px; width:650px;\"></div>            <script type=\"text/javascript\">                                    window.PLOTLYENV=window.PLOTLYENV || {};                                    if (document.getElementById(\"eacbe61c-7d04-4422-b1ce-c3a2058f31eb\")) {                    Plotly.newPlot(                        \"eacbe61c-7d04-4422-b1ce-c3a2058f31eb\",                        [{\"customdata\": [[15.511484146118164, -9.265284538269043, 0, \"sound | lighting | bose | lights | awesome\", 30], [-8.408933639526367, 11.979354858398438, 1, \"boot | bigger | great | huge | seats\", 21], [-0.2015368640422821, 6.54300594329834, 2, \"cost | maintenance | service | costs | little\", 33], [16.5847110748291, -8.512845039367676, 3, \"poor | looks | even | comfort | seats\", 152], [-8.309009552001953, 11.230944633483887, 4, \"comfortable | driving | smooth | ride | great\", 16], [-8.669742584228516, 11.312182426452637, 5, \"comfortable | comfort | seating | comforting | able\", 16], [-7.825056552886963, 11.54023265838623, 6, \"road | better | imposing | pros | immense\", 20], [-8.604266166687012, 13.741372108459473, 7, \"interior | good | premium | interiors | excellent\", 27], [-8.411823272705078, 13.42656135559082, 8, \"nice | amazing | black | good | stunning\", 39], [-7.056032657623291, 12.119873046875, 9, \"wireless | charging | charger | phone | warm\", 18], [15.777539253234863, -8.978896141052246, 10, \"sunroof | panoramic | large | big | open\", 60], [-7.875059127807617, 12.049668312072754, 11, \"safety | longrunning | obviously | worth | average\", 14], [-7.320038318634033, 11.78635311126709, 12, \"engine | powerful | car | great | diesel\", 27], [-0.08888881653547287, 6.430332183837891, 13, \"range | price | best | car | boot\", 15], [15.974589347839355, -8.111576080322266, 14, \"car | good | safety | suv | drive\", 139]], \"hovertemplate\": \"<b>Topic %{customdata[2]}</b><br>Words: %{customdata[3]}<br>Size: %{customdata[4]}\", \"legendgroup\": \"\", \"marker\": {\"color\": \"#B0BEC5\", \"line\": {\"color\": \"DarkSlateGrey\", \"width\": 2}, \"size\": [30, 21, 33, 152, 16, 16, 20, 27, 39, 18, 60, 14, 27, 15, 139], \"sizemode\": \"area\", \"sizeref\": 0.095, \"symbol\": \"circle\"}, \"mode\": \"markers\", \"name\": \"\", \"orientation\": \"v\", \"showlegend\": false, \"type\": \"scatter\", \"x\": [15.511484146118164, -8.408933639526367, -0.2015368640422821, 16.5847110748291, -8.309009552001953, -8.669742584228516, -7.825056552886963, -8.604266166687012, -8.411823272705078, -7.056032657623291, 15.777539253234863, -7.875059127807617, -7.320038318634033, -0.08888881653547287, 15.974589347839355], \"xaxis\": \"x\", \"y\": [-9.265284538269043, 11.979354858398438, 6.54300594329834, -8.512845039367676, 11.230944633483887, 11.312182426452637, 11.54023265838623, 13.741372108459473, 13.42656135559082, 12.119873046875, -8.978896141052246, 12.049668312072754, 11.78635311126709, 6.430332183837891, -8.111576080322266], \"yaxis\": \"y\"}],                        {\"annotations\": [{\"showarrow\": false, \"text\": \"D1\", \"x\": -9.970203971862793, \"y\": 2.5737503528594967, \"yshift\": 10}, {\"showarrow\": false, \"text\": \"D2\", \"x\": 4.551106882095337, \"xshift\": 10, \"y\": 15.802577924728393}], \"height\": 650, \"hoverlabel\": {\"bgcolor\": \"white\", \"font\": {\"family\": \"Rockwell\", \"size\": 16}}, \"legend\": {\"itemsizing\": \"constant\", \"tracegroupgap\": 0}, \"margin\": {\"t\": 60}, \"shapes\": [{\"line\": {\"color\": \"#CFD8DC\", \"width\": 2}, \"type\": \"line\", \"x0\": 4.551106882095337, \"x1\": 4.551106882095337, \"y0\": -10.6550772190094, \"y1\": 15.802577924728393}, {\"line\": {\"color\": \"#9E9E9E\", \"width\": 2}, \"type\": \"line\", \"x0\": -9.970203971862793, \"x1\": 15.802577924728393, \"y0\": 2.5737503528594967, \"y1\": 2.5737503528594967}], \"sliders\": [{\"active\": 0, \"pad\": {\"t\": 50}, \"steps\": [{\"args\": [{\"marker.color\": [[\"red\", \"#B0BEC5\", \"#B0BEC5\", \"#B0BEC5\", \"#B0BEC5\", \"#B0BEC5\", \"#B0BEC5\", \"#B0BEC5\", \"#B0BEC5\", \"#B0BEC5\", \"#B0BEC5\", \"#B0BEC5\", \"#B0BEC5\", \"#B0BEC5\", \"#B0BEC5\"]]}], \"label\": \"Topic 0\", \"method\": \"update\"}, {\"args\": [{\"marker.color\": [[\"#B0BEC5\", \"red\", \"#B0BEC5\", \"#B0BEC5\", \"#B0BEC5\", \"#B0BEC5\", \"#B0BEC5\", \"#B0BEC5\", \"#B0BEC5\", \"#B0BEC5\", \"#B0BEC5\", \"#B0BEC5\", \"#B0BEC5\", \"#B0BEC5\", \"#B0BEC5\"]]}], \"label\": \"Topic 1\", \"method\": \"update\"}, {\"args\": [{\"marker.color\": [[\"#B0BEC5\", \"#B0BEC5\", \"red\", \"#B0BEC5\", \"#B0BEC5\", \"#B0BEC5\", \"#B0BEC5\", \"#B0BEC5\", \"#B0BEC5\", \"#B0BEC5\", \"#B0BEC5\", \"#B0BEC5\", \"#B0BEC5\", \"#B0BEC5\", \"#B0BEC5\"]]}], \"label\": \"Topic 2\", \"method\": \"update\"}, {\"args\": [{\"marker.color\": [[\"#B0BEC5\", \"#B0BEC5\", \"#B0BEC5\", \"red\", \"#B0BEC5\", \"#B0BEC5\", \"#B0BEC5\", \"#B0BEC5\", \"#B0BEC5\", \"#B0BEC5\", \"#B0BEC5\", \"#B0BEC5\", \"#B0BEC5\", \"#B0BEC5\", \"#B0BEC5\"]]}], \"label\": \"Topic 3\", \"method\": \"update\"}, {\"args\": [{\"marker.color\": [[\"#B0BEC5\", \"#B0BEC5\", \"#B0BEC5\", \"#B0BEC5\", \"red\", \"#B0BEC5\", \"#B0BEC5\", \"#B0BEC5\", \"#B0BEC5\", \"#B0BEC5\", \"#B0BEC5\", \"#B0BEC5\", \"#B0BEC5\", \"#B0BEC5\", \"#B0BEC5\"]]}], \"label\": \"Topic 4\", \"method\": \"update\"}, {\"args\": [{\"marker.color\": [[\"#B0BEC5\", \"#B0BEC5\", \"#B0BEC5\", \"#B0BEC5\", \"#B0BEC5\", \"red\", \"#B0BEC5\", \"#B0BEC5\", \"#B0BEC5\", \"#B0BEC5\", \"#B0BEC5\", \"#B0BEC5\", \"#B0BEC5\", \"#B0BEC5\", \"#B0BEC5\"]]}], \"label\": \"Topic 5\", \"method\": \"update\"}, {\"args\": [{\"marker.color\": [[\"#B0BEC5\", \"#B0BEC5\", \"#B0BEC5\", \"#B0BEC5\", \"#B0BEC5\", \"#B0BEC5\", \"red\", \"#B0BEC5\", \"#B0BEC5\", \"#B0BEC5\", \"#B0BEC5\", \"#B0BEC5\", \"#B0BEC5\", \"#B0BEC5\", \"#B0BEC5\"]]}], \"label\": \"Topic 6\", \"method\": \"update\"}, {\"args\": [{\"marker.color\": [[\"#B0BEC5\", \"#B0BEC5\", \"#B0BEC5\", \"#B0BEC5\", \"#B0BEC5\", \"#B0BEC5\", \"#B0BEC5\", \"red\", \"#B0BEC5\", \"#B0BEC5\", \"#B0BEC5\", \"#B0BEC5\", \"#B0BEC5\", \"#B0BEC5\", \"#B0BEC5\"]]}], \"label\": \"Topic 7\", \"method\": \"update\"}, {\"args\": [{\"marker.color\": [[\"#B0BEC5\", \"#B0BEC5\", \"#B0BEC5\", \"#B0BEC5\", \"#B0BEC5\", \"#B0BEC5\", \"#B0BEC5\", \"#B0BEC5\", \"red\", \"#B0BEC5\", \"#B0BEC5\", \"#B0BEC5\", \"#B0BEC5\", \"#B0BEC5\", \"#B0BEC5\"]]}], \"label\": \"Topic 8\", \"method\": \"update\"}, {\"args\": [{\"marker.color\": [[\"#B0BEC5\", \"#B0BEC5\", \"#B0BEC5\", \"#B0BEC5\", \"#B0BEC5\", \"#B0BEC5\", \"#B0BEC5\", \"#B0BEC5\", \"#B0BEC5\", \"red\", \"#B0BEC5\", \"#B0BEC5\", \"#B0BEC5\", \"#B0BEC5\", \"#B0BEC5\"]]}], \"label\": \"Topic 9\", \"method\": \"update\"}, {\"args\": [{\"marker.color\": [[\"#B0BEC5\", \"#B0BEC5\", \"#B0BEC5\", \"#B0BEC5\", \"#B0BEC5\", \"#B0BEC5\", \"#B0BEC5\", \"#B0BEC5\", \"#B0BEC5\", \"#B0BEC5\", \"red\", \"#B0BEC5\", \"#B0BEC5\", \"#B0BEC5\", \"#B0BEC5\"]]}], \"label\": \"Topic 10\", \"method\": \"update\"}, {\"args\": [{\"marker.color\": [[\"#B0BEC5\", \"#B0BEC5\", \"#B0BEC5\", \"#B0BEC5\", \"#B0BEC5\", \"#B0BEC5\", \"#B0BEC5\", \"#B0BEC5\", \"#B0BEC5\", \"#B0BEC5\", \"#B0BEC5\", \"red\", \"#B0BEC5\", \"#B0BEC5\", \"#B0BEC5\"]]}], \"label\": \"Topic 11\", \"method\": \"update\"}, {\"args\": [{\"marker.color\": [[\"#B0BEC5\", \"#B0BEC5\", \"#B0BEC5\", \"#B0BEC5\", \"#B0BEC5\", \"#B0BEC5\", \"#B0BEC5\", \"#B0BEC5\", \"#B0BEC5\", \"#B0BEC5\", \"#B0BEC5\", \"#B0BEC5\", \"red\", \"#B0BEC5\", \"#B0BEC5\"]]}], \"label\": \"Topic 12\", \"method\": \"update\"}, {\"args\": [{\"marker.color\": [[\"#B0BEC5\", \"#B0BEC5\", \"#B0BEC5\", \"#B0BEC5\", \"#B0BEC5\", \"#B0BEC5\", \"#B0BEC5\", \"#B0BEC5\", \"#B0BEC5\", \"#B0BEC5\", \"#B0BEC5\", \"#B0BEC5\", \"#B0BEC5\", \"red\", \"#B0BEC5\"]]}], \"label\": \"Topic 13\", \"method\": \"update\"}, {\"args\": [{\"marker.color\": [[\"#B0BEC5\", \"#B0BEC5\", \"#B0BEC5\", \"#B0BEC5\", \"#B0BEC5\", \"#B0BEC5\", \"#B0BEC5\", \"#B0BEC5\", \"#B0BEC5\", \"#B0BEC5\", \"#B0BEC5\", \"#B0BEC5\", \"#B0BEC5\", \"#B0BEC5\", \"red\"]]}], \"label\": \"Topic 14\", \"method\": \"update\"}]}], \"template\": {\"data\": {\"bar\": [{\"error_x\": {\"color\": \"rgb(36,36,36)\"}, \"error_y\": {\"color\": \"rgb(36,36,36)\"}, \"marker\": {\"line\": {\"color\": \"white\", \"width\": 0.5}}, \"type\": \"bar\"}], \"barpolar\": [{\"marker\": {\"line\": {\"color\": \"white\", \"width\": 0.5}}, \"type\": \"barpolar\"}], \"carpet\": [{\"aaxis\": {\"endlinecolor\": \"rgb(36,36,36)\", \"gridcolor\": \"white\", \"linecolor\": \"white\", \"minorgridcolor\": \"white\", \"startlinecolor\": \"rgb(36,36,36)\"}, \"baxis\": {\"endlinecolor\": \"rgb(36,36,36)\", \"gridcolor\": \"white\", \"linecolor\": \"white\", \"minorgridcolor\": \"white\", \"startlinecolor\": \"rgb(36,36,36)\"}, \"type\": \"carpet\"}], \"choropleth\": [{\"colorbar\": {\"outlinewidth\": 1, \"tickcolor\": \"rgb(36,36,36)\", \"ticks\": \"outside\"}, \"type\": \"choropleth\"}], \"contour\": [{\"colorbar\": {\"outlinewidth\": 1, \"tickcolor\": \"rgb(36,36,36)\", \"ticks\": \"outside\"}, \"colorscale\": [[0.0, \"#440154\"], [0.1111111111111111, \"#482878\"], [0.2222222222222222, \"#3e4989\"], [0.3333333333333333, \"#31688e\"], [0.4444444444444444, \"#26828e\"], [0.5555555555555556, \"#1f9e89\"], [0.6666666666666666, \"#35b779\"], [0.7777777777777778, \"#6ece58\"], [0.8888888888888888, \"#b5de2b\"], [1.0, \"#fde725\"]], \"type\": \"contour\"}], \"contourcarpet\": [{\"colorbar\": {\"outlinewidth\": 1, \"tickcolor\": \"rgb(36,36,36)\", \"ticks\": \"outside\"}, \"type\": \"contourcarpet\"}], \"heatmap\": [{\"colorbar\": {\"outlinewidth\": 1, \"tickcolor\": \"rgb(36,36,36)\", \"ticks\": \"outside\"}, \"colorscale\": [[0.0, \"#440154\"], [0.1111111111111111, \"#482878\"], [0.2222222222222222, \"#3e4989\"], [0.3333333333333333, \"#31688e\"], [0.4444444444444444, \"#26828e\"], [0.5555555555555556, \"#1f9e89\"], [0.6666666666666666, \"#35b779\"], [0.7777777777777778, \"#6ece58\"], [0.8888888888888888, \"#b5de2b\"], [1.0, \"#fde725\"]], \"type\": \"heatmap\"}], \"heatmapgl\": [{\"colorbar\": {\"outlinewidth\": 1, \"tickcolor\": \"rgb(36,36,36)\", \"ticks\": \"outside\"}, \"colorscale\": [[0.0, \"#440154\"], [0.1111111111111111, \"#482878\"], [0.2222222222222222, \"#3e4989\"], [0.3333333333333333, \"#31688e\"], [0.4444444444444444, \"#26828e\"], [0.5555555555555556, \"#1f9e89\"], [0.6666666666666666, \"#35b779\"], [0.7777777777777778, \"#6ece58\"], [0.8888888888888888, \"#b5de2b\"], [1.0, \"#fde725\"]], \"type\": \"heatmapgl\"}], \"histogram\": [{\"marker\": {\"line\": {\"color\": \"white\", \"width\": 0.6}}, \"type\": \"histogram\"}], \"histogram2d\": [{\"colorbar\": {\"outlinewidth\": 1, \"tickcolor\": \"rgb(36,36,36)\", \"ticks\": \"outside\"}, \"colorscale\": [[0.0, \"#440154\"], [0.1111111111111111, \"#482878\"], [0.2222222222222222, \"#3e4989\"], [0.3333333333333333, \"#31688e\"], [0.4444444444444444, \"#26828e\"], [0.5555555555555556, \"#1f9e89\"], [0.6666666666666666, \"#35b779\"], [0.7777777777777778, \"#6ece58\"], [0.8888888888888888, \"#b5de2b\"], [1.0, \"#fde725\"]], \"type\": \"histogram2d\"}], \"histogram2dcontour\": [{\"colorbar\": {\"outlinewidth\": 1, \"tickcolor\": \"rgb(36,36,36)\", \"ticks\": \"outside\"}, \"colorscale\": [[0.0, \"#440154\"], [0.1111111111111111, \"#482878\"], [0.2222222222222222, \"#3e4989\"], [0.3333333333333333, \"#31688e\"], [0.4444444444444444, \"#26828e\"], [0.5555555555555556, \"#1f9e89\"], [0.6666666666666666, \"#35b779\"], [0.7777777777777778, \"#6ece58\"], [0.8888888888888888, \"#b5de2b\"], [1.0, \"#fde725\"]], \"type\": \"histogram2dcontour\"}], \"mesh3d\": [{\"colorbar\": {\"outlinewidth\": 1, \"tickcolor\": \"rgb(36,36,36)\", \"ticks\": \"outside\"}, \"type\": \"mesh3d\"}], \"parcoords\": [{\"line\": {\"colorbar\": {\"outlinewidth\": 1, \"tickcolor\": \"rgb(36,36,36)\", \"ticks\": \"outside\"}}, \"type\": \"parcoords\"}], \"pie\": [{\"automargin\": true, \"type\": \"pie\"}], \"scatter\": [{\"marker\": {\"colorbar\": {\"outlinewidth\": 1, \"tickcolor\": \"rgb(36,36,36)\", \"ticks\": \"outside\"}}, \"type\": \"scatter\"}], \"scatter3d\": [{\"line\": {\"colorbar\": {\"outlinewidth\": 1, \"tickcolor\": \"rgb(36,36,36)\", \"ticks\": \"outside\"}}, \"marker\": {\"colorbar\": {\"outlinewidth\": 1, \"tickcolor\": \"rgb(36,36,36)\", \"ticks\": \"outside\"}}, \"type\": \"scatter3d\"}], \"scattercarpet\": [{\"marker\": {\"colorbar\": {\"outlinewidth\": 1, \"tickcolor\": \"rgb(36,36,36)\", \"ticks\": \"outside\"}}, \"type\": \"scattercarpet\"}], \"scattergeo\": [{\"marker\": {\"colorbar\": {\"outlinewidth\": 1, \"tickcolor\": \"rgb(36,36,36)\", \"ticks\": \"outside\"}}, \"type\": \"scattergeo\"}], \"scattergl\": [{\"marker\": {\"colorbar\": {\"outlinewidth\": 1, \"tickcolor\": \"rgb(36,36,36)\", \"ticks\": \"outside\"}}, \"type\": \"scattergl\"}], \"scattermapbox\": [{\"marker\": {\"colorbar\": {\"outlinewidth\": 1, \"tickcolor\": \"rgb(36,36,36)\", \"ticks\": \"outside\"}}, \"type\": \"scattermapbox\"}], \"scatterpolar\": [{\"marker\": {\"colorbar\": {\"outlinewidth\": 1, \"tickcolor\": \"rgb(36,36,36)\", \"ticks\": \"outside\"}}, \"type\": \"scatterpolar\"}], \"scatterpolargl\": [{\"marker\": {\"colorbar\": {\"outlinewidth\": 1, \"tickcolor\": \"rgb(36,36,36)\", \"ticks\": \"outside\"}}, \"type\": \"scatterpolargl\"}], \"scatterternary\": [{\"marker\": {\"colorbar\": {\"outlinewidth\": 1, \"tickcolor\": \"rgb(36,36,36)\", \"ticks\": \"outside\"}}, \"type\": \"scatterternary\"}], \"surface\": [{\"colorbar\": {\"outlinewidth\": 1, \"tickcolor\": \"rgb(36,36,36)\", \"ticks\": \"outside\"}, \"colorscale\": [[0.0, \"#440154\"], [0.1111111111111111, \"#482878\"], [0.2222222222222222, \"#3e4989\"], [0.3333333333333333, \"#31688e\"], [0.4444444444444444, \"#26828e\"], [0.5555555555555556, \"#1f9e89\"], [0.6666666666666666, \"#35b779\"], [0.7777777777777778, \"#6ece58\"], [0.8888888888888888, \"#b5de2b\"], [1.0, \"#fde725\"]], \"type\": \"surface\"}], \"table\": [{\"cells\": {\"fill\": {\"color\": \"rgb(237,237,237)\"}, \"line\": {\"color\": \"white\"}}, \"header\": {\"fill\": {\"color\": \"rgb(217,217,217)\"}, \"line\": {\"color\": \"white\"}}, \"type\": \"table\"}]}, \"layout\": {\"annotationdefaults\": {\"arrowhead\": 0, \"arrowwidth\": 1}, \"autotypenumbers\": \"strict\", \"coloraxis\": {\"colorbar\": {\"outlinewidth\": 1, \"tickcolor\": \"rgb(36,36,36)\", \"ticks\": \"outside\"}}, \"colorscale\": {\"diverging\": [[0.0, \"rgb(103,0,31)\"], [0.1, \"rgb(178,24,43)\"], [0.2, \"rgb(214,96,77)\"], [0.3, \"rgb(244,165,130)\"], [0.4, \"rgb(253,219,199)\"], [0.5, \"rgb(247,247,247)\"], [0.6, \"rgb(209,229,240)\"], [0.7, \"rgb(146,197,222)\"], [0.8, \"rgb(67,147,195)\"], [0.9, \"rgb(33,102,172)\"], [1.0, \"rgb(5,48,97)\"]], \"sequential\": [[0.0, \"#440154\"], [0.1111111111111111, \"#482878\"], [0.2222222222222222, \"#3e4989\"], [0.3333333333333333, \"#31688e\"], [0.4444444444444444, \"#26828e\"], [0.5555555555555556, \"#1f9e89\"], [0.6666666666666666, \"#35b779\"], [0.7777777777777778, \"#6ece58\"], [0.8888888888888888, \"#b5de2b\"], [1.0, \"#fde725\"]], \"sequentialminus\": [[0.0, \"#440154\"], [0.1111111111111111, \"#482878\"], [0.2222222222222222, \"#3e4989\"], [0.3333333333333333, \"#31688e\"], [0.4444444444444444, \"#26828e\"], [0.5555555555555556, \"#1f9e89\"], [0.6666666666666666, \"#35b779\"], [0.7777777777777778, \"#6ece58\"], [0.8888888888888888, \"#b5de2b\"], [1.0, \"#fde725\"]]}, \"colorway\": [\"#1F77B4\", \"#FF7F0E\", \"#2CA02C\", \"#D62728\", \"#9467BD\", \"#8C564B\", \"#E377C2\", \"#7F7F7F\", \"#BCBD22\", \"#17BECF\"], \"font\": {\"color\": \"rgb(36,36,36)\"}, \"geo\": {\"bgcolor\": \"white\", \"lakecolor\": \"white\", \"landcolor\": \"white\", \"showlakes\": true, \"showland\": true, \"subunitcolor\": \"white\"}, \"hoverlabel\": {\"align\": \"left\"}, \"hovermode\": \"closest\", \"mapbox\": {\"style\": \"light\"}, \"paper_bgcolor\": \"white\", \"plot_bgcolor\": \"white\", \"polar\": {\"angularaxis\": {\"gridcolor\": \"rgb(232,232,232)\", \"linecolor\": \"rgb(36,36,36)\", \"showgrid\": false, \"showline\": true, \"ticks\": \"outside\"}, \"bgcolor\": \"white\", \"radialaxis\": {\"gridcolor\": \"rgb(232,232,232)\", \"linecolor\": \"rgb(36,36,36)\", \"showgrid\": false, \"showline\": true, \"ticks\": \"outside\"}}, \"scene\": {\"xaxis\": {\"backgroundcolor\": \"white\", \"gridcolor\": \"rgb(232,232,232)\", \"gridwidth\": 2, \"linecolor\": \"rgb(36,36,36)\", \"showbackground\": true, \"showgrid\": false, \"showline\": true, \"ticks\": \"outside\", \"zeroline\": false, \"zerolinecolor\": \"rgb(36,36,36)\"}, \"yaxis\": {\"backgroundcolor\": \"white\", \"gridcolor\": \"rgb(232,232,232)\", \"gridwidth\": 2, \"linecolor\": \"rgb(36,36,36)\", \"showbackground\": true, \"showgrid\": false, \"showline\": true, \"ticks\": \"outside\", \"zeroline\": false, \"zerolinecolor\": \"rgb(36,36,36)\"}, \"zaxis\": {\"backgroundcolor\": \"white\", \"gridcolor\": \"rgb(232,232,232)\", \"gridwidth\": 2, \"linecolor\": \"rgb(36,36,36)\", \"showbackground\": true, \"showgrid\": false, \"showline\": true, \"ticks\": \"outside\", \"zeroline\": false, \"zerolinecolor\": \"rgb(36,36,36)\"}}, \"shapedefaults\": {\"fillcolor\": \"black\", \"line\": {\"width\": 0}, \"opacity\": 0.3}, \"ternary\": {\"aaxis\": {\"gridcolor\": \"rgb(232,232,232)\", \"linecolor\": \"rgb(36,36,36)\", \"showgrid\": false, \"showline\": true, \"ticks\": \"outside\"}, \"baxis\": {\"gridcolor\": \"rgb(232,232,232)\", \"linecolor\": \"rgb(36,36,36)\", \"showgrid\": false, \"showline\": true, \"ticks\": \"outside\"}, \"bgcolor\": \"white\", \"caxis\": {\"gridcolor\": \"rgb(232,232,232)\", \"linecolor\": \"rgb(36,36,36)\", \"showgrid\": false, \"showline\": true, \"ticks\": \"outside\"}}, \"title\": {\"x\": 0.05}, \"xaxis\": {\"automargin\": true, \"gridcolor\": \"rgb(232,232,232)\", \"linecolor\": \"rgb(36,36,36)\", \"showgrid\": false, \"showline\": true, \"ticks\": \"outside\", \"title\": {\"standoff\": 15}, \"zeroline\": false, \"zerolinecolor\": \"rgb(36,36,36)\"}, \"yaxis\": {\"automargin\": true, \"gridcolor\": \"rgb(232,232,232)\", \"linecolor\": \"rgb(36,36,36)\", \"showgrid\": false, \"showline\": true, \"ticks\": \"outside\", \"title\": {\"standoff\": 15}, \"zeroline\": false, \"zerolinecolor\": \"rgb(36,36,36)\"}}}, \"title\": {\"font\": {\"color\": \"Black\", \"size\": 22}, \"text\": \"<b>Intertopic Distance Map\", \"x\": 0.5, \"xanchor\": \"center\", \"y\": 0.95, \"yanchor\": \"top\"}, \"width\": 650, \"xaxis\": {\"anchor\": \"y\", \"domain\": [0.0, 1.0], \"range\": [-9.970203971862793, 19.072417736053467], \"title\": {\"text\": \"\"}, \"visible\": false}, \"yaxis\": {\"anchor\": \"x\", \"domain\": [0.0, 1.0], \"range\": [-10.6550772190094, 15.802577924728393], \"title\": {\"text\": \"\"}, \"visible\": false}},                        {\"responsive\": true}                    ).then(function(){\n",
              "                            \n",
              "var gd = document.getElementById('eacbe61c-7d04-4422-b1ce-c3a2058f31eb');\n",
              "var x = new MutationObserver(function (mutations, observer) {{\n",
              "        var display = window.getComputedStyle(gd).display;\n",
              "        if (!display || display === 'none') {{\n",
              "            console.log([gd, 'removed!']);\n",
              "            Plotly.purge(gd);\n",
              "            observer.disconnect();\n",
              "        }}\n",
              "}});\n",
              "\n",
              "// Listen for the removal of the full notebook cells\n",
              "var notebookContainer = gd.closest('#notebook-container');\n",
              "if (notebookContainer) {{\n",
              "    x.observe(notebookContainer, {childList: true});\n",
              "}}\n",
              "\n",
              "// Listen for the clearing of the current output cell\n",
              "var outputEl = gd.closest('.output');\n",
              "if (outputEl) {{\n",
              "    x.observe(outputEl, {childList: true});\n",
              "}}\n",
              "\n",
              "                        })                };                            </script>        </div>\n",
              "</body>\n",
              "</html>"
            ]
          },
          "metadata": {
            "tags": []
          }
        }
      ]
    },
    {
      "cell_type": "code",
      "metadata": {
        "id": "LGqIYmyx1xQi"
      },
      "source": [
        ""
      ],
      "execution_count": null,
      "outputs": []
    }
  ]
}